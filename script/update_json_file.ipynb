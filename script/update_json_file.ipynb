{
 "cells": [
  {
   "cell_type": "code",
   "execution_count": 50,
   "metadata": {},
   "outputs": [],
   "source": [
    "import requests\n",
    "from bs4 import BeautifulSoup\n",
    "import re\n",
    "import json\n",
    "import pprint"
   ]
  },
  {
   "cell_type": "code",
   "execution_count": 57,
   "metadata": {},
   "outputs": [],
   "source": [
    "# timestamp = \"2018-10-09\"\n",
    "def update_json_file(timestamp):\n",
    "    # HTML 取得\n",
    "    r = requests.get('https://github.com/kazukiyoshida/nuxt-blog/blob/master/src/markdown/' + timestamp + \".md\")\n",
    "    soup = BeautifulSoup(r.text, 'html')\n",
    "    html = str(soup.find(id=\"readme\"))\n",
    "\n",
    "    # HTML -> JSON\n",
    "    json_list = []\n",
    "    for line in html.splitlines():\n",
    "        s = line.replace('\\\\', '\\\\\\\\\"') # バックスラッシュをエスケープ\n",
    "        s = s.replace('\\t', '  ')       # タブ文字をスペースに変換\n",
    "        s = s.replace('\\\"', '\\\\\\\"')     # 文字 \" をエスケープ\n",
    "        s = s.replace('\\n', '')         # 文末の改行を一旦削除\n",
    "        json_list.append(s)\n",
    "\n",
    "    # JSON ファイルを更新\n",
    "    file_path = \"../src/articles/\" + timestamp + \".json\"\n",
    "\n",
    "    with open(file_path, 'r') as f:\n",
    "        df = json.load(f)\n",
    "        df['bodyHtml'] = json_list\n",
    "\n",
    "    with open(file_path, 'w') as f:\n",
    "        j = json.dumps(df, indent=2, ensure_ascii=False)\n",
    "        f.write(j)"
   ]
  },
  {
   "cell_type": "code",
   "execution_count": 55,
   "metadata": {},
   "outputs": [
    {
     "name": "stdout",
     "output_type": "stream",
     "text": [
      "15 2018-10-09.json\n",
      "15 2021-01-26.json\n",
      "15 2021-01-18.json\n",
      "15 2019-10-13.json\n",
      "15 2019-09-23.json\n",
      "15 2021-01-28.json\n",
      "15 2021-01-08.json\n"
     ]
    }
   ],
   "source": [
    "import glob\n",
    "\n",
    "files = glob.glob(\"../src/articles/*\")\n",
    "for file in files:\n",
    "    f = file.split('/')[-1]\n",
    "    \n",
    "    if f != \"summary.json\":\n",
    "        print(len(f), f)"
   ]
  },
  {
   "cell_type": "code",
   "execution_count": null,
   "metadata": {},
   "outputs": [],
   "source": []
  }
 ],
 "metadata": {
  "kernelspec": {
   "display_name": "Python 3",
   "language": "python",
   "name": "python3"
  },
  "language_info": {
   "codemirror_mode": {
    "name": "ipython",
    "version": 3
   },
   "file_extension": ".py",
   "mimetype": "text/x-python",
   "name": "python",
   "nbconvert_exporter": "python",
   "pygments_lexer": "ipython3",
   "version": "3.8.5"
  }
 },
 "nbformat": 4,
 "nbformat_minor": 4
}
